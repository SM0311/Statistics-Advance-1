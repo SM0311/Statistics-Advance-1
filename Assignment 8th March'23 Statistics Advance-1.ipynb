{
 "cells": [
  {
   "cell_type": "markdown",
   "id": "03cc7e0a-ebfe-4b9f-a9c9-b84869669c78",
   "metadata": {},
   "source": [
    "Q1. What is the Probability density function?"
   ]
  },
  {
   "cell_type": "markdown",
   "id": "96c668c4-e5a4-46ae-a02c-744dcfa66e07",
   "metadata": {},
   "source": [
    "Answer 1.\n",
    "\n",
    "The probability density function (PDF) is a function that describes the relative likelihood for a continuous random variable to take on a given value. The PDF is defined as the derivative of the cumulative distribution function (CDF), which gives the probability that a random variable takes on a value less than or equal to a given value. In other words, the PDF specifies the rate at which the CDF changes with respect to the variable, indicating how quickly the probability of the variable taking on a particular value increases or decreases.\n",
    "\n",
    "The PDF is non-negative for all possible values of the random variable and its integral over the entire range of the variable is equal to 1, ensuring that the total probability of all possible outcomes is equal to 1. The PDF is used to calculate probabilities for a range of outcomes for a continuous random variable, by integrating the PDF over that range."
   ]
  },
  {
   "cell_type": "markdown",
   "id": "b71a85f5-ffd7-4c60-ac22-4c7d3309ffda",
   "metadata": {},
   "source": [
    "Q2. What are the types of Probability distribution?"
   ]
  },
  {
   "cell_type": "markdown",
   "id": "1c82ed62-d6ee-4ecb-8ee2-c5501c81f4da",
   "metadata": {},
   "source": [
    "Answer 2.\n",
    "\n",
    "There are several types of probability distributions, including:\n",
    "\n",
    "1. Discrete Probability Distributions: These are probability distributions for discrete random variables that take on a finite or countably infinite number of values, such as the binomial, Poisson, and geometric distributions.\n",
    "\n",
    "2. Continuous Probability Distributions: These are probability distributions for continuous random variables that take on an infinite number of possible values within a given interval, such as the normal, exponential, and uniform distributions.\n",
    "\n",
    "3. Multivariate Probability Distributions: These are probability distributions for multiple random variables that are jointly distributed, such as the joint normal distribution and the multivariate t-distribution.\n",
    "\n",
    "4. Conditional Probability Distributions: These are probability distributions for a random variable given some other variable or set of variables, such as the conditional normal distribution and the conditional Poisson distribution.\n",
    "\n",
    "5. Empirical Probability Distributions: These are probability distributions that are estimated from observed data, such as the empirical distribution function and the kernel density estimation."
   ]
  },
  {
   "cell_type": "markdown",
   "id": "39fee1ee-527a-4fe5-995f-01c6326f5baa",
   "metadata": {},
   "source": [
    "Q3. Write a Python function to calculate the probability density function of a normal distribution with given mean and standard deviation at a given point."
   ]
  },
  {
   "cell_type": "code",
   "execution_count": 6,
   "id": "2ef1244a-90eb-4360-a3d9-5f1dff2e8e4f",
   "metadata": {},
   "outputs": [],
   "source": [
    "import math\n",
    "\n",
    "def normal_pdf(x, mu, sigma):\n",
    "    \"\"\"\n",
    "    Returns the PDF of a normal distribution with mean mu and standard deviation sigma\n",
    "    at a given point x.\n",
    "    \"\"\"\n",
    "    coeff = 1 / (sigma * math.sqrt(2 * math.pi))\n",
    "    exponent = -1 / 2 * ((x - mu) / sigma) ** 2\n",
    "    pdf = coeff * math.exp(exponent)\n",
    "    return pdf"
   ]
  },
  {
   "cell_type": "code",
   "execution_count": 7,
   "id": "ea32d9e8-40ca-49e9-a048-35f30ed30d95",
   "metadata": {},
   "outputs": [],
   "source": [
    "pdf_value = normal_pdf(x=2, mu=0, sigma=1)"
   ]
  },
  {
   "cell_type": "code",
   "execution_count": 8,
   "id": "a023614f-f0be-4d09-9c84-e9d75a2c9b5f",
   "metadata": {},
   "outputs": [
    {
     "data": {
      "text/plain": [
       "0.05399096651318806"
      ]
     },
     "execution_count": 8,
     "metadata": {},
     "output_type": "execute_result"
    }
   ],
   "source": [
    "pdf_value"
   ]
  },
  {
   "cell_type": "markdown",
   "id": "995d0d3b-e8de-43fe-9e6f-fbe5aff6756d",
   "metadata": {},
   "source": [
    "Q4. What are the properties of Binomial distribution? Give two examples of events where binomial distribution can be applied."
   ]
  },
  {
   "cell_type": "markdown",
   "id": "bcb6902c-d5e1-4125-947d-b3271e825f71",
   "metadata": {},
   "source": [
    "Answer4. The Binomial distribution is a discrete probability distribution that describes the number of successes in a fixed number of independent trials, where each trial has only two possible outcomes: success or failure.\n",
    "\n",
    "The key properties of the Binomial distribution are:\n",
    "\n",
    "1. The number of trials is fixed.\n",
    "2. Each trial is independent.\n",
    "3. There are only two possible outcomes for each trial (success or failure).\n",
    "4. The probability of success is constant for each trial.\n",
    "5. The random variable of interest is the number of successes in the fixed      number of trials.\n",
    "\n",
    "\n",
    "\n",
    "Two examples of events where the Binomial distribution can be applied are:\n",
    "\n",
    "1. A coin toss: Suppose you flip a fair coin 10 times, and you want to know the probability of getting exactly 5 heads. This is an example of a Binomial distribution, where the number of trials is 10, the probability of success (getting heads) is 0.5 for each trial, and the random variable of interest is the number of heads (or successes) in the 10 tosses.\n",
    "\n",
    "2. Election polling: Suppose you conduct a survey to predict the outcome of an election. You ask 1000 people if they will vote for Candidate A or Candidate B, and you want to know the probability that Candidate A will win the election based on the survey results. This is an example of a Binomial distribution, where the number of trials is 1000 (the number of people surveyed), the probability of success (voting for Candidate A) is the proportion of people in the survey who said they will vote for Candidate A, and the random variable of interest is the number of people who will vote for Candidate A in the election."
   ]
  },
  {
   "cell_type": "markdown",
   "id": "7f9d9622-7a28-47de-a8f6-0b5128cf8416",
   "metadata": {},
   "source": [
    "Q5. Generate a random sample of size 1000 from a binomial distribution with probability of success 0.4 and plot a histogram of the results using matplotlib."
   ]
  },
  {
   "cell_type": "code",
   "execution_count": 9,
   "id": "9756571d-4e14-48d6-b657-d412289a656f",
   "metadata": {},
   "outputs": [],
   "source": [
    "import numpy as np\n",
    "import matplotlib.pyplot as plt"
   ]
  },
  {
   "cell_type": "code",
   "execution_count": 10,
   "id": "bf86a0d7-5bdc-4538-a44d-a66100bd67bc",
   "metadata": {},
   "outputs": [],
   "source": [
    "np.random.seed(123)"
   ]
  },
  {
   "cell_type": "code",
   "execution_count": 11,
   "id": "f255b72f-4a40-4e5c-b4d0-a506e014195d",
   "metadata": {},
   "outputs": [],
   "source": [
    "sample = np.random.binomial(n=1,p=0.4, size = 1000)"
   ]
  },
  {
   "cell_type": "code",
   "execution_count": 12,
   "id": "bdf677e4-db9b-4567-98db-77ecb3ce1285",
   "metadata": {},
   "outputs": [
    {
     "data": {
      "image/png": "[encoded data removed]",
      "text/plain": [
       "<Figure size 640x480 with 1 Axes>"
      ]
     },
     "metadata": {},
     "output_type": "display_data"
    }
   ],
   "source": [
    "plt.hist(sample, bins=2, edgecolor= 'black')\n",
    "plt.xlabel('Success/Failure')\n",
    "plt.ylabel('Frequency')\n",
    "plt.title('Histogram of Binomial Distrubution (n=1,p=0.4, )')\n",
    "plt.show()"
   ]
  },
  {
   "cell_type": "markdown",
   "id": "7f94b359-85a7-4288-9c22-1f13a71ee5ab",
   "metadata": {},
   "source": [
    "Q6. Write a Python function to calculate the cumulative distribution function of a Poisson distribution with given mean at a given point."
   ]
  },
  {
   "cell_type": "code",
   "execution_count": 15,
   "id": "a009b674-0b36-4d5b-8a8b-ff6631adfcdb",
   "metadata": {},
   "outputs": [],
   "source": [
    "from scipy.stats import poisson\n",
    "\n",
    "def poisson_cdf(mean, point):\n",
    "    return poisson.cdf(point, mu=mean)"
   ]
  },
  {
   "cell_type": "code",
   "execution_count": 17,
   "id": "4a6a34d8-267d-422f-a31a-7c6e11f8efad",
   "metadata": {},
   "outputs": [],
   "source": [
    "cdf = poisson_cdf(mean=3, point=2)"
   ]
  },
  {
   "cell_type": "code",
   "execution_count": 18,
   "id": "45e3d7f9-98d0-47ea-bf16-a1135f90ecbd",
   "metadata": {},
   "outputs": [
    {
     "data": {
      "text/plain": [
       "0.42319008112684364"
      ]
     },
     "execution_count": 18,
     "metadata": {},
     "output_type": "execute_result"
    }
   ],
   "source": [
    "cdf"
   ]
  },
  {
   "cell_type": "markdown",
   "id": "c6e0c80f-fe5c-4669-8685-01eb92327331",
   "metadata": {},
   "source": [
    "Q7. How Binomial distribution different from Poisson distribution?"
   ]
  },
  {
   "cell_type": "markdown",
   "id": "a9247a4c-38ff-4671-8674-b1f3e0d46c5c",
   "metadata": {},
   "source": [
    "Answer 7. Binomial distribution and Poisson distribution are both probability distributions used to model the number of occurrences of an event.\n",
    "However, there are several key differences between the two distributions:\n",
    "\n",
    "1. Number of trials: Binomial distribution is used when the number of independent trials is fixed, whereas Poisson distribution is used when the number of trials is not fixed and is often considered to be infinite.\n",
    "\n",
    "2. Probability of success: In a binomial distribution, the probability of success is constant for all trials, while in a Poisson distribution, the probability of success can vary depending on the underlying process being modeled.\n",
    "\n",
    "3. Number of outcomes: In a binomial distribution, there are a fixed number of possible outcomes, which are either success or failure. In a Poisson distribution, the number of possible outcomes is infinite, as the distribution models the occurrence of events in a continuous process.\n",
    "\n",
    "4. Shape of the distribution: Binomial distributions tend to be more symmetric and bell-shaped, while Poisson distributions tend to be skewed to the right.\n",
    "\n",
    "5. Mean and variance: The mean and variance of a binomial distribution are both finite and can be calculated using the formulas np and np(1-p), respectively, where n is the number of trials and p is the probability of success. In a Poisson distribution, the mean and variance are both equal to the parameter λ, which represents the expected number of occurrences in the given interval.\n",
    "\n",
    "6. Application: Binomial distribution is often used to model discrete events with a fixed number of trials, such as the number of successes in a fixed number of independent trials, while Poisson distribution is often used to model the occurrence of rare events in a continuous process, such as the number of earthquakes in a year or the number of customers arriving at a store per hour.\n",
    "\n",
    "In a nutshell, while both binomial distribution and Poisson distribution are used to model the occurrence of events, they differ in their underlying assumptions, number of outcomes, shape of the distribution, and application."
   ]
  },
  {
   "cell_type": "markdown",
   "id": "393c70d1-2ba4-484a-a2e1-291c8127a944",
   "metadata": {},
   "source": [
    "Q8. Generate a random sample of size 1000 from a Poisson distribution with mean 5 and calculate the sample mean and variance."
   ]
  },
  {
   "cell_type": "code",
   "execution_count": 19,
   "id": "b32e5b75-98ec-4238-9ac4-49bcdba7594d",
   "metadata": {},
   "outputs": [],
   "source": [
    "import numpy as np\n",
    "np.random.seed(123)"
   ]
  },
  {
   "cell_type": "code",
   "execution_count": 20,
   "id": "2fd6b0f7-5cef-4124-b7b2-93b48756a72b",
   "metadata": {},
   "outputs": [],
   "source": [
    "sample = np.random.poisson(5,1000)"
   ]
  },
  {
   "cell_type": "code",
   "execution_count": 25,
   "id": "1b2f1427-4277-469a-a935-aecfc35124d9",
   "metadata": {},
   "outputs": [],
   "source": [
    "sample_mean = np.mean(sample)\n",
    "sample_var = np.var(sample, ddof = 1)"
   ]
  },
  {
   "cell_type": "code",
   "execution_count": 26,
   "id": "2dc908b2-4c07-4111-af15-3f13c9347b3c",
   "metadata": {},
   "outputs": [
    {
     "data": {
      "text/plain": [
       "4.919"
      ]
     },
     "execution_count": 26,
     "metadata": {},
     "output_type": "execute_result"
    }
   ],
   "source": [
    "sample_mean"
   ]
  },
  {
   "cell_type": "code",
   "execution_count": 27,
   "id": "01586947-384e-485c-bdea-39c6f83238d7",
   "metadata": {},
   "outputs": [
    {
     "data": {
      "text/plain": [
       "5.035474474474475"
      ]
     },
     "execution_count": 27,
     "metadata": {},
     "output_type": "execute_result"
    }
   ],
   "source": [
    "sample_var"
   ]
  },
  {
   "cell_type": "markdown",
   "id": "12cf9a34-66c0-45fc-b869-2eb161c5e943",
   "metadata": {},
   "source": [
    "Q9. How mean and variance are related in Binomial distribution and Poisson distribution?"
   ]
  },
  {
   "cell_type": "markdown",
   "id": "495d9125-d911-494d-8757-d8865aa99a0e",
   "metadata": {},
   "source": [
    "Answer 9.\n",
    "\n",
    "In a binomial distribution, the mean and variance are related by the formula:\n",
    "\n",
    "                mean = n * p\n",
    "             variance = n * p * (1 - p)\n",
    "\n",
    "\n",
    "where n is the number of trials and p is the probability of success in each trial.\n",
    "\n",
    "In a Poisson distribution, the mean and variance are equal, i.e.,\n",
    "\n",
    "\n",
    "               mean = variance = λ\n",
    "\n",
    "\n",
    "where λ is the parameter of the Poisson distribution, which represents the average rate of occurrence of the event of interest per unit of time or space.\n",
    "\n",
    "\n",
    "The relationship between mean and variance is an important property of probability distributions, as it helps to characterize the shape and spread of the distribution. In the case of the binomial and Poisson distributions, the relationship between mean and variance reflects the fact that the distributions are discrete and have a limited range of possible values. When the probability of success in each trial is low (in the case of the binomial distribution) or when the average rate of occurrence of the event is low (in the case of the Poisson distribution), the variance is smaller relative to the mean, indicating that the distribution is more concentrated around the mean. Conversely, when the probability of success or the average rate of occurrence is high, the variance is larger relative to the mean, indicating that the distribution is more spread out."
   ]
  },
  {
   "cell_type": "markdown",
   "id": "b8d8e81b-2835-4dcf-ade3-a9a7ff596f5a",
   "metadata": {},
   "source": [
    "Q10. In normal distribution with respect to mean position, where does the least frequent data appear?"
   ]
  },
  {
   "cell_type": "markdown",
   "id": "e23df43a-6c57-48cb-8d0b-6a3dd4e1076c",
   "metadata": {},
   "source": [
    "Answer 10. In a normal distribution, the least frequent data appears in the tails of the distribution, which are the regions that are farthest away from the mean. Specifically, data that is more than 2 standard deviations away from the mean (in either direction) is considered to be in the \"tails\" of the distribution, and this region contains the least frequent data.\n",
    "\n",
    "For example, in a normal distribution with mean 0 and standard deviation 1, the region that is more than 2 standard deviations away from the mean (i.e., the tails) is the interval (-∞, -2) ∪ (2, ∞), which contains approximately 5% of the total area under the curve. This means that only about 5% of the data in a normal distribution is located in the tails, and the remaining 95% is concentrated around the mean, with the highest frequency of data occurring at the mean."
   ]
  },
  {
   "cell_type": "code",
   "execution_count": null,
   "id": "16e58842-5be8-40cf-b593-bb38aab188b5",
   "metadata": {},
   "outputs": [],
   "source": []
  }
 ],
 "metadata": {
  "kernelspec": {
   "display_name": "Python 3 (ipykernel)",
   "language": "python",
   "name": "python3"
  },
  "language_info": {
   "codemirror_mode": {
    "name": "ipython",
    "version": 3
   },
   "file_extension": ".py",
   "mimetype": "text/x-python",
   "name": "python",
   "nbconvert_exporter": "python",
   "pygments_lexer": "ipython3",
   "version": "3.10.8"
  }
 },
 "nbformat": 4,
 "nbformat_minor": 5
}
